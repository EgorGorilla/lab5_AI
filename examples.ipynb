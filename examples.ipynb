{
 "cells": [
  {
   "cell_type": "markdown",
   "metadata": {
    "id": "BXrGaP1WraQv"
   },
   "source": [
    "# **1. Различие между Series и DataFrame**\n",
    "### 1.1. Пример создания Series"
   ]
  },
  {
   "cell_type": "code",
   "execution_count": 3,
   "metadata": {
    "colab": {
     "base_uri": "https://localhost:8080/"
    },
    "id": "y38C2ZZFrQyu",
    "outputId": "e7334e5d-9572-4ab1-c7e0-03fa08be4894"
   },
   "outputs": [
    {
     "name": "stdout",
     "output_type": "stream",
     "text": [
      "a    10\n",
      "b    20\n",
      "c    30\n",
      "d    40\n",
      "dtype: int64\n"
     ]
    }
   ],
   "source": [
    "import pandas as pd\n",
    "import numpy as np\n",
    "s = pd.Series([10,20,30,40], index=['a','b','c','d'])\n",
    "print(s)"
   ]
  },
  {
   "cell_type": "markdown",
   "metadata": {
    "id": "l89cXAQOryrS"
   },
   "source": [
    "### 1.2. Пример создания DataFrame"
   ]
  },
  {
   "cell_type": "code",
   "execution_count": null,
   "metadata": {
    "colab": {
     "base_uri": "https://localhost:8080/"
    },
    "id": "gi3Mme9Arx0-",
    "outputId": "678514c8-c255-458d-ff61-6ccf707109fc"
   },
   "outputs": [
    {
     "name": "stdout",
     "output_type": "stream",
     "text": [
      "       Возраст   Город\n",
      "Анна        25  Москва\n",
      "Иван        30     СПб\n",
      "Ольга       22  Казань\n",
      "Анна     25\n",
      "Иван     30\n",
      "Ольга    22\n",
      "Name: Возраст, dtype: int64\n"
     ]
    }
   ],
   "source": [
    "data = {\n",
    "    'Возраст': [25,30,22],\n",
    "    'Город': ['Москва','СПб','Казань']\n",
    "}\n",
    "df = pd.DataFrame(data,index=['Анна','Иван','Ольга'])\n",
    "print(df)"
   ]
  },
  {
   "cell_type": "markdown",
   "metadata": {
    "id": "EsHUR6-lurOI"
   },
   "source": [
    "### 1.3. Series как часть DataFrame"
   ]
  },
  {
   "cell_type": "code",
   "execution_count": null,
   "metadata": {
    "colab": {
     "base_uri": "https://localhost:8080/"
    },
    "id": "zstumQpEu0X5",
    "outputId": "b6e08f98-52ca-4a51-e6ef-9c670150b541"
   },
   "outputs": [
    {
     "name": "stdout",
     "output_type": "stream",
     "text": [
      "Анна     25\n",
      "Иван     30\n",
      "Ольга    22\n",
      "Name: Возраст, dtype: int64\n"
     ]
    }
   ],
   "source": [
    "print(df['Возраст'])"
   ]
  },
  {
   "cell_type": "markdown",
   "metadata": {
    "id": "1hHYOunsu-Gn"
   },
   "source": [
    "### 1.4. Преобразование Series в DataFrame и обратно"
   ]
  },
  {
   "cell_type": "code",
   "execution_count": 11,
   "metadata": {
    "colab": {
     "base_uri": "https://localhost:8080/"
    },
    "id": "8IIIr4gju7yy",
    "outputId": "05045bfa-3626-482b-f345-19402a281bc4"
   },
   "outputs": [
    {
     "name": "stdout",
     "output_type": "stream",
     "text": [
      "   Значение\n",
      "a        10\n",
      "b        20\n",
      "c        30\n",
      "a    10\n",
      "b    20\n",
      "c    30\n",
      "Name: Значение, dtype: int64\n"
     ]
    }
   ],
   "source": [
    "# Из Series в DataFrame\n",
    "s = pd.Series([10,20,30], index=['a','b','c'])\n",
    "df = s.to_frame(name='Значение')\n",
    "print(df)\n",
    "# Из DataFrame в Series (извлечение столбца)\n",
    "s = df['Значение']\n",
    "print(s)"
   ]
  },
  {
   "cell_type": "markdown",
   "metadata": {
    "id": "ZejBWV-pvRF2"
   },
   "source": [
    "# **2. Создание DataFrame из различных источников данных**\n",
    "### 2.1. Создание DataFrame из словаря (dict)"
   ]
  },
  {
   "cell_type": "code",
   "execution_count": null,
   "metadata": {},
   "outputs": [],
   "source": [
    "data = {\n",
    "    'Имя': ['Анна','Иван','Ольга'],\n",
    "    \"Возраст\": [25, 30, 22],\n",
    "    \"Город\": [\"Москва\", \"СПб\", \"Казань\"]\n",
    "}\n",
    "df = pd.DataFrame(data)\n",
    "print(df)"
   ]
  },
  {
   "cell_type": "markdown",
   "metadata": {},
   "source": [
    "### 2.2. Создание DataFrame из списка (list)\n",
    "### Список списков (двумерный список)"
   ]
  },
  {
   "cell_type": "code",
   "execution_count": 10,
   "metadata": {},
   "outputs": [
    {
     "name": "stdout",
     "output_type": "stream",
     "text": [
      "     Имя  Возраст   Город\n",
      "0   Анна       25  Москва\n",
      "1   Иван       30     СПб\n",
      "2  Ольга       22  Казань\n"
     ]
    }
   ],
   "source": [
    "data = [\n",
    "    [\"Анна\", 25, \"Москва\"],\n",
    "    [\"Иван\", 30, \"СПб\"],\n",
    "    [\"Ольга\", 22, \"Казань\"]\n",
    "]\n",
    "df = pd.DataFrame(data, columns=[\"Имя\", \"Возраст\", \"Город\"])\n",
    "print(df)"
   ]
  },
  {
   "cell_type": "markdown",
   "metadata": {},
   "source": [
    "### Список словарей"
   ]
  },
  {
   "cell_type": "code",
   "execution_count": 16,
   "metadata": {},
   "outputs": [
    {
     "name": "stdout",
     "output_type": "stream",
     "text": [
      "     Имя  Возраст   Город\n",
      "0   Анна       25  Москва\n",
      "1   Иван       30     NaN\n",
      "2  Ольга       22  Казань\n"
     ]
    }
   ],
   "source": [
    "data = [\n",
    "    {\"Имя\": \"Анна\", \"Возраст\": 25, \"Город\": \"Москва\"},\n",
    "    {\"Имя\": \"Иван\", \"Возраст\":30}, # Город пропущен\n",
    "    {\"Имя\": \"Ольга\", \"Возраст\":22, \"Город\":\"Казань\"}\n",
    "]\n",
    "df = pd.DataFrame(data)\n",
    "print(df)"
   ]
  },
  {
   "cell_type": "markdown",
   "metadata": {},
   "source": [
    "### 2.3. Создание DataFrame из массива NumPy"
   ]
  },
  {
   "cell_type": "code",
   "execution_count": 19,
   "metadata": {},
   "outputs": [
    {
     "name": "stdout",
     "output_type": "stream",
     "text": [
      "     Имя Возраст   Город\n",
      "0   Анна      25  Москва\n",
      "1   Иван      30     СПб\n",
      "2  Ольга      22  Казань\n"
     ]
    }
   ],
   "source": [
    "data = np.array([\n",
    "    [\"Анна\", 25, \"Москва\"],\n",
    "    [\"Иван\", 30, \"СПб\"],\n",
    "    [\"Ольга\", 22, \"Казань\"]\n",
    "])\n",
    "df = pd.DataFrame(data, columns=[\"Имя\", \"Возраст\", \"Город\"])\n",
    "print(df)"
   ]
  },
  {
   "cell_type": "markdown",
   "metadata": {},
   "source": [
    "### 2.4. Создание пустого DataFrame"
   ]
  },
  {
   "cell_type": "code",
   "execution_count": 22,
   "metadata": {},
   "outputs": [
    {
     "name": "stdout",
     "output_type": "stream",
     "text": [
      "Empty DataFrame\n",
      "Columns: [Имя, Возраст, Город]\n",
      "Index: []\n"
     ]
    }
   ],
   "source": [
    "df = pd.DataFrame(columns=[\"Имя\", \"Возраст\", \"Город\"])\n",
    "print(df)"
   ]
  },
  {
   "cell_type": "code",
   "execution_count": 24,
   "metadata": {},
   "outputs": [
    {
     "name": "stdout",
     "output_type": "stream",
     "text": [
      "    Имя  Возраст   Город\n",
      "0  Анна       25  Москва\n",
      "1  Иван       30     СПб\n"
     ]
    }
   ],
   "source": [
    "df.loc[0] = [\"Анна\", 25, \"Москва\"]\n",
    "df.loc[1] = [\"Иван\", 30, \"СПб\"]\n",
    "print(df)"
   ]
  },
  {
   "cell_type": "markdown",
   "metadata": {},
   "source": [
    "### 2.5. Чтение данных из CSV"
   ]
  },
  {
   "cell_type": "code",
   "execution_count": 28,
   "metadata": {},
   "outputs": [
    {
     "name": "stdout",
     "output_type": "stream",
     "text": [
      "       Data;Price\n",
      "0  01.03.2024;100\n",
      "1  02.03.2024;110\n",
      "2  03.03.2024;105\n",
      "3  04.03.2024;120\n",
      "4  05.03.2024;115\n"
     ]
    }
   ],
   "source": [
    "df = pd.read_csv('data.csv')\n",
    "print(df.head())"
   ]
  },
  {
   "cell_type": "code",
   "execution_count": 43,
   "metadata": {},
   "outputs": [],
   "source": [
    "df = pd.read_csv('data.csv',sep=',', index_col=0) # Пример чтения CSV с параметрами"
   ]
  },
  {
   "cell_type": "code",
   "execution_count": 45,
   "metadata": {},
   "outputs": [],
   "source": [
    "df.to_csv('output.csv', index=False) # Запись данных в CSV"
   ]
  },
  {
   "cell_type": "markdown",
   "metadata": {},
   "source": [
    "### 2.6. Чтение данных из Excel"
   ]
  },
  {
   "cell_type": "code",
   "execution_count": 48,
   "metadata": {},
   "outputs": [
    {
     "name": "stdout",
     "output_type": "stream",
     "text": [
      "   Name   Surname\n",
      "0  Egor  Ryabinin\n",
      "1  Petr    Petrov\n",
      "2  Ivan    Ivanov\n"
     ]
    }
   ],
   "source": [
    "df = pd.read_excel('test.xlsx',sheet_name='Лист1')\n",
    "print(df.head())"
   ]
  },
  {
   "cell_type": "markdown",
   "metadata": {},
   "source": [
    "### 2.7. Чтение данных из JSON"
   ]
  },
  {
   "cell_type": "code",
   "execution_count": 78,
   "metadata": {},
   "outputs": [
    {
     "name": "stdout",
     "output_type": "stream",
     "text": [
      "     Имя  Возраст   Город\n",
      "0   Анна       25  Москва\n",
      "1   Иван       30     СПб\n",
      "2  Ольга       22  Казань\n"
     ]
    }
   ],
   "source": [
    "df = pd.read_json('data.json')\n",
    "print(df.head())"
   ]
  },
  {
   "cell_type": "code",
   "execution_count": 80,
   "metadata": {},
   "outputs": [],
   "source": [
    "# Запись данных в JSON\n",
    "df.to_json('output.json', orient='records', indent=4)"
   ]
  },
  {
   "cell_type": "markdown",
   "metadata": {},
   "source": [
    "### 2.8. Чтение данных из Parquet"
   ]
  },
  {
   "cell_type": "code",
   "execution_count": 68,
   "metadata": {},
   "outputs": [
    {
     "name": "stdout",
     "output_type": "stream",
     "text": [
      "     Имя  Возраст   Город\n",
      "0   Анна       25  Москва\n",
      "1   Иван       30     СПб\n",
      "2  Ольга       22  Казань\n"
     ]
    }
   ],
   "source": [
    "df = pd.read_json('data.parquet')\n",
    "print(df.head())"
   ]
  },
  {
   "cell_type": "code",
   "execution_count": 72,
   "metadata": {},
   "outputs": [],
   "source": [
    "# Запись данных в Parquet\n",
    "df.to_parquet('output.parquet', engine='pyarrow', index=False)"
   ]
  },
  {
   "cell_type": "markdown",
   "metadata": {},
   "source": [
    "# **3. Основные методы для первичного анализа данных DataFrame**\n",
    "### 3.1. Метод .head() - просмотр первых строк DataFrame"
   ]
  },
  {
   "cell_type": "code",
   "execution_count": 86,
   "metadata": {},
   "outputs": [
    {
     "name": "stdout",
     "output_type": "stream",
     "text": [
      "     Имя  Возраст         Город\n",
      "0   Анна       25        Москва\n",
      "1   Иван       30           СПб\n",
      "2  Ольга       22        Казань\n",
      "3   Петр       40   Новосибирск\n",
      "4  Мария       35  Екатеринбург\n"
     ]
    }
   ],
   "source": [
    "data = {\n",
    "    \"Имя\": [\"Анна\",\"Иван\",\"Ольга\",\"Петр\",\"Мария\",\"Сергей\"],\n",
    "    \"Возраст\":[25,30,22,40,35,28],\n",
    "    \"Город\": [\"Москва\",\"СПб\",\"Казань\",\"Новосибирск\",\"Екатеринбург\",\"Сочи\"]\n",
    "}\n",
    "df = pd.DataFrame(data)\n",
    "print(df.head())"
   ]
  },
  {
   "cell_type": "markdown",
   "metadata": {},
   "source": [
    "### 3.2. Метод .tail() - просмотр последних строк DataFrame"
   ]
  },
  {
   "cell_type": "code",
   "execution_count": 89,
   "metadata": {},
   "outputs": [
    {
     "name": "stdout",
     "output_type": "stream",
     "text": [
      "      Имя  Возраст         Город\n",
      "4   Мария       35  Екатеринбург\n",
      "5  Сергей       28          Сочи\n"
     ]
    }
   ],
   "source": [
    "print(df.tail(2))"
   ]
  },
  {
   "cell_type": "markdown",
   "metadata": {},
   "source": [
    "### 3.3. Метод .info() - общая информация о DataFrame"
   ]
  },
  {
   "cell_type": "code",
   "execution_count": 94,
   "metadata": {},
   "outputs": [
    {
     "name": "stdout",
     "output_type": "stream",
     "text": [
      "<class 'pandas.core.frame.DataFrame'>\n",
      "RangeIndex: 6 entries, 0 to 5\n",
      "Data columns (total 3 columns):\n",
      " #   Column   Non-Null Count  Dtype \n",
      "---  ------   --------------  ----- \n",
      " 0   Имя      6 non-null      object\n",
      " 1   Возраст  6 non-null      int64 \n",
      " 2   Город    6 non-null      object\n",
      "dtypes: int64(1), object(2)\n",
      "memory usage: 276.0+ bytes\n"
     ]
    }
   ],
   "source": [
    "df.info()"
   ]
  },
  {
   "cell_type": "markdown",
   "metadata": {},
   "source": [
    "### 3.4. Метод .describe() - статистический обзор числовых данных"
   ]
  },
  {
   "cell_type": "code",
   "execution_count": 101,
   "metadata": {},
   "outputs": [
    {
     "data": {
      "text/html": [
       "<div>\n",
       "<style scoped>\n",
       "    .dataframe tbody tr th:only-of-type {\n",
       "        vertical-align: middle;\n",
       "    }\n",
       "\n",
       "    .dataframe tbody tr th {\n",
       "        vertical-align: top;\n",
       "    }\n",
       "\n",
       "    .dataframe thead th {\n",
       "        text-align: right;\n",
       "    }\n",
       "</style>\n",
       "<table border=\"1\" class=\"dataframe\">\n",
       "  <thead>\n",
       "    <tr style=\"text-align: right;\">\n",
       "      <th></th>\n",
       "      <th>Возраст</th>\n",
       "    </tr>\n",
       "  </thead>\n",
       "  <tbody>\n",
       "    <tr>\n",
       "      <th>count</th>\n",
       "      <td>6.00000</td>\n",
       "    </tr>\n",
       "    <tr>\n",
       "      <th>mean</th>\n",
       "      <td>30.00000</td>\n",
       "    </tr>\n",
       "    <tr>\n",
       "      <th>std</th>\n",
       "      <td>6.60303</td>\n",
       "    </tr>\n",
       "    <tr>\n",
       "      <th>min</th>\n",
       "      <td>22.00000</td>\n",
       "    </tr>\n",
       "    <tr>\n",
       "      <th>25%</th>\n",
       "      <td>25.75000</td>\n",
       "    </tr>\n",
       "    <tr>\n",
       "      <th>50%</th>\n",
       "      <td>29.00000</td>\n",
       "    </tr>\n",
       "    <tr>\n",
       "      <th>75%</th>\n",
       "      <td>33.75000</td>\n",
       "    </tr>\n",
       "    <tr>\n",
       "      <th>max</th>\n",
       "      <td>40.00000</td>\n",
       "    </tr>\n",
       "  </tbody>\n",
       "</table>\n",
       "</div>"
      ],
      "text/plain": [
       "        Возраст\n",
       "count   6.00000\n",
       "mean   30.00000\n",
       "std     6.60303\n",
       "min    22.00000\n",
       "25%    25.75000\n",
       "50%    29.00000\n",
       "75%    33.75000\n",
       "max    40.00000"
      ]
     },
     "execution_count": 101,
     "metadata": {},
     "output_type": "execute_result"
    }
   ],
   "source": [
    "df.describe()"
   ]
  },
  {
   "cell_type": "markdown",
   "metadata": {},
   "source": [
    "# **4. Доступ к данным в DataFrame**\n",
    "### 4.1. Доступ к данным с .loc[] (по меткам)"
   ]
  },
  {
   "cell_type": "code",
   "execution_count": 119,
   "metadata": {},
   "outputs": [
    {
     "name": "stdout",
     "output_type": "stream",
     "text": [
      "     Имя  Возраст        Город\n",
      "a   Анна       25       Москва\n",
      "b   Иван       30          СПб\n",
      "c  Ольга       22       Казань\n",
      "d   Петр       40  Новосибирск\n",
      "\n",
      "Доступ к одной строке по индексу:\n",
      " Имя        Иван\n",
      "Возраст      30\n",
      "Город       СПб\n",
      "Name: b, dtype: object\n",
      "\n",
      "Доступ к конкретному значению:\n",
      " Казань\n",
      "\n",
      "Доступ к нескольким столбцам:\n",
      "      Имя        Город\n",
      "a   Анна       Москва\n",
      "b   Иван          СПб\n",
      "c  Ольга       Казань\n",
      "d   Петр  Новосибирск\n",
      "\n",
      "Фильтрация данных по условию:\n",
      "     Имя  Возраст        Город\n",
      "b  Иван       30          СПб\n",
      "d  Петр       40  Новосибирск\n"
     ]
    }
   ],
   "source": [
    "data = {\n",
    "    \"Имя\": [\"Анна\",\"Иван\",\"Ольга\",\"Петр\"],\n",
    "    \"Возраст\":[25,30,22,40],\n",
    "    \"Город\": [\"Москва\",\"СПб\",\"Казань\",\"Новосибирск\"]\n",
    "}\n",
    "df = pd.DataFrame(data, index=['a','b','c','d'])\n",
    "print(df)\n",
    "print('\\nДоступ к одной строке по индексу:\\n',df.loc['b'])\n",
    "print('\\nДоступ к конкретному значению:\\n',df.loc['c','Город'])\n",
    "print('\\nДоступ к нескольким столбцам:\\n',df.loc[:, ['Имя', 'Город']])\n",
    "print('\\nФильтрация данных по условию:\\n',df.loc[df['Возраст']>25])"
   ]
  },
  {
   "cell_type": "markdown",
   "metadata": {},
   "source": [
    "### 4.2. Доступ к данных с .iloc[] (по номерам строк и столбцов)"
   ]
  },
  {
   "cell_type": "code",
   "execution_count": 130,
   "metadata": {},
   "outputs": [
    {
     "name": "stdout",
     "output_type": "stream",
     "text": [
      "\n",
      "Доступ к строке по номеру:\n",
      " Имя        Иван\n",
      "Возраст      30\n",
      "Город       СПб\n",
      "Name: b, dtype: object\n",
      "\n",
      "Доступ к отдельному значению:\n",
      " Казань\n",
      "\n",
      "Доступ к нескольким строкам:\n",
      "      Имя  Возраст   Город\n",
      "a   Анна       25  Москва\n",
      "c  Ольга       22  Казань\n",
      "\n",
      "Доступ к срезу строк:\n",
      "      Имя  Возраст   Город\n",
      "b   Иван       30     СПб\n",
      "c  Ольга       22  Казань\n",
      "\n",
      "Доступ к нескольким столбцам:\n",
      "      Имя        Город\n",
      "a   Анна       Москва\n",
      "b   Иван          СПб\n",
      "c  Ольга       Казань\n",
      "d   Петр  Новосибирск\n"
     ]
    }
   ],
   "source": [
    "print('\\nДоступ к строке по номеру:\\n',df.iloc[1])\n",
    "print('\\nДоступ к отдельному значению:\\n',df.iloc[2,2])\n",
    "print('\\nДоступ к нескольким строкам:\\n',df.iloc[[0,2]])\n",
    "print('\\nДоступ к срезу строк:\\n', df.iloc[1:3])\n",
    "print('\\nДоступ к нескольким столбцам:\\n',df.iloc[:, [0,2]])"
   ]
  },
  {
   "cell_type": "markdown",
   "metadata": {},
   "source": [
    "### 4.3. Доступ к отдельному элементу .at[] (по метке индекса)"
   ]
  },
  {
   "cell_type": "code",
   "execution_count": 133,
   "metadata": {},
   "outputs": [
    {
     "name": "stdout",
     "output_type": "stream",
     "text": [
      "Казань\n"
     ]
    }
   ],
   "source": [
    "print(df.at['c','Город'])"
   ]
  },
  {
   "cell_type": "markdown",
   "metadata": {},
   "source": [
    "### 4.4. Доступ к отдельному элементу .iat[] (по номеру строки и столбца)"
   ]
  },
  {
   "cell_type": "code",
   "execution_count": 136,
   "metadata": {},
   "outputs": [
    {
     "name": "stdout",
     "output_type": "stream",
     "text": [
      "Казань\n"
     ]
    }
   ],
   "source": [
    "print(df.iat[2,2])"
   ]
  },
  {
   "cell_type": "markdown",
   "metadata": {},
   "source": [
    "# **5. Добавление строк и столбцов в DataFrame**\n",
    "### 5.1. Добавление нового столбца\n",
    "### Добавление столбца с фиксированными значениями"
   ]
  },
  {
   "cell_type": "code",
   "execution_count": 143,
   "metadata": {},
   "outputs": [
    {
     "name": "stdout",
     "output_type": "stream",
     "text": [
      "     Имя  Возраст   Город\n",
      "0   Анна       25  Москва\n",
      "1   Иван       30     СПб\n",
      "2  Ольга       22  Казань\n"
     ]
    }
   ],
   "source": [
    "data = {\n",
    "    \"Имя\": [\"Анна\", \"Иван\", \"Ольга\"],\n",
    "    \"Возраст\": [25,30,22]\n",
    "}\n",
    "df = pd.DataFrame(data)\n",
    "df[\"Город\"] = [\"Москва\", \"СПб\", \"Казань\"]\n",
    "print(df)"
   ]
  },
  {
   "cell_type": "markdown",
   "metadata": {},
   "source": [
    "### Добавление столбца с одним значением"
   ]
  },
  {
   "cell_type": "code",
   "execution_count": 147,
   "metadata": {},
   "outputs": [
    {
     "name": "stdout",
     "output_type": "stream",
     "text": [
      "     Имя  Возраст   Город  Страна\n",
      "0   Анна       25  Москва  Россия\n",
      "1   Иван       30     СПб  Россия\n",
      "2  Ольга       22  Казань  Россия\n"
     ]
    }
   ],
   "source": [
    "df[\"Страна\"] = \"Россия\"\n",
    "print(df)"
   ]
  },
  {
   "cell_type": "markdown",
   "metadata": {},
   "source": [
    "### Добавление столбца на основе других столбцов"
   ]
  },
  {
   "cell_type": "code",
   "execution_count": 150,
   "metadata": {},
   "outputs": [
    {
     "name": "stdout",
     "output_type": "stream",
     "text": [
      "     Имя  Возраст   Город  Страна  Возраст_в_месяцах\n",
      "0   Анна       25  Москва  Россия                300\n",
      "1   Иван       30     СПб  Россия                360\n",
      "2  Ольга       22  Казань  Россия                264\n"
     ]
    }
   ],
   "source": [
    "df[\"Возраст_в_месяцах\"] = df[\"Возраст\"] * 12\n",
    "print(df)"
   ]
  },
  {
   "cell_type": "markdown",
   "metadata": {},
   "source": [
    "### Добавление столбца с .apply()"
   ]
  },
  {
   "cell_type": "code",
   "execution_count": 153,
   "metadata": {},
   "outputs": [
    {
     "name": "stdout",
     "output_type": "stream",
     "text": [
      "     Имя  Возраст   Город  Страна  Возраст_в_месяцах Категория возраста\n",
      "0   Анна       25  Москва  Россия                300            Молодой\n",
      "1   Иван       30     СПб  Россия                360           Взрослый\n",
      "2  Ольга       22  Казань  Россия                264            Молодой\n"
     ]
    }
   ],
   "source": [
    "df[\"Категория возраста\"] = df[\"Возраст\"].apply(lambda x: \"Молодой\" if x < 30 else \"Взрослый\")\n",
    "print(df)"
   ]
  },
  {
   "cell_type": "markdown",
   "metadata": {},
   "source": [
    "### 5.2. Добавление строк\n",
    "### Добавление одной строки с .loc"
   ]
  },
  {
   "cell_type": "code",
   "execution_count": 171,
   "metadata": {},
   "outputs": [
    {
     "name": "stdout",
     "output_type": "stream",
     "text": [
      "     Имя  Возраст        Город  Страна  Возраст_в_месяцах Категория возраста\n",
      "0   Анна       25       Москва  Россия              300.0            Молодой\n",
      "1   Иван       30          СПб  Россия              360.0           Взрослый\n",
      "2  Ольга       22       Казань  Россия              264.0            Молодой\n",
      "3   Петр       40  Новосибирск  Россия                NaN                NaN\n"
     ]
    }
   ],
   "source": [
    "df.loc[3] = {\"Имя\": \"Петр\", \"Возраст\": 40, \"Город\": \"Новосибирск\", \"Страна\": \"Россия\"}\n",
    "print(df)"
   ]
  },
  {
   "cell_type": "markdown",
   "metadata": {},
   "source": [
    "### Добавление строки с pd.concat()"
   ]
  },
  {
   "cell_type": "code",
   "execution_count": null,
   "metadata": {},
   "outputs": [],
   "source": [
    "new_data = pd.DataFrame([{\"Имя\": \"Алексей\", \"Возраст\": 29, \"Город\": \"Томск\", \"Страна\": \"Россия\"}])\n",
    "df = pd.concat([df, new_data], ignore_index=True)\n",
    "print(df)"
   ]
  },
  {
   "cell_type": "markdown",
   "metadata": {},
   "source": [
    "### Добавление нескольких строк"
   ]
  },
  {
   "cell_type": "code",
   "execution_count": 192,
   "metadata": {},
   "outputs": [
    {
     "name": "stdout",
     "output_type": "stream",
     "text": [
      "       Имя  Возраст        Город  Страна  Возраст_в_месяцах Категория возраста\n",
      "0     Анна       25       Москва  Россия              300.0            Молодой\n",
      "1     Иван       30          СПб  Россия              360.0           Взрослый\n",
      "2    Ольга       22       Казань  Россия              264.0            Молодой\n",
      "3     Петр       40  Новосибирск  Россия                NaN                NaN\n",
      "4  Алексей       29        Томск  Россия                NaN                NaN\n",
      "5  Дмитрий       31       Самара  Россия                NaN                NaN\n",
      "6     Егор       19   Ставрополь  Россия                NaN                NaN\n"
     ]
    }
   ],
   "source": [
    "new_rows = pd.DataFrame([\n",
    "    {\"Имя\": \"Дмитрий\", \"Возраст\": 31, \"Город\": \"Самара\", \"Страна\": \"Россия\"},\n",
    "    {\"Имя\": \"Егор\", \"Возраст\": 19, \"Город\": \"Ставрополь\", \"Страна\": \"Россия\"}\n",
    "])\n",
    "df = pd.concat([df, new_rows], ignore_index=True)\n",
    "print(df)"
   ]
  },
  {
   "cell_type": "markdown",
   "metadata": {},
   "source": [
    "### Добавление строк .loc с новым индексом"
   ]
  },
  {
   "cell_type": "code",
   "execution_count": 197,
   "metadata": {},
   "outputs": [
    {
     "name": "stdout",
     "output_type": "stream",
     "text": [
      "           Имя  Возраст        Город  Страна  Возраст_в_месяцах  \\\n",
      "0         Анна       25       Москва  Россия              300.0   \n",
      "1         Иван       30          СПб  Россия              360.0   \n",
      "2        Ольга       22       Казань  Россия              264.0   \n",
      "3         Петр       40  Новосибирск  Россия                NaN   \n",
      "4      Алексей       29        Томск  Россия                NaN   \n",
      "5      Дмитрий       31       Самара  Россия                NaN   \n",
      "6         Егор       19   Ставрополь  Россия                NaN   \n",
      "новый    Артем       33       Калуга  Россия                NaN   \n",
      "\n",
      "      Категория возраста  \n",
      "0                Молодой  \n",
      "1               Взрослый  \n",
      "2                Молодой  \n",
      "3                    NaN  \n",
      "4                    NaN  \n",
      "5                    NaN  \n",
      "6                    NaN  \n",
      "новый                NaN  \n"
     ]
    }
   ],
   "source": [
    "df.loc[\"новый\"] = {\"Имя\": \"Артем\", \"Возраст\": 33, \"Город\": \"Калуга\", \"Страна\": \"Россия\"}\n",
    "print(df)"
   ]
  },
  {
   "cell_type": "markdown",
   "metadata": {},
   "source": [
    "# **6. Удаление строк и столбцов в DataFrame**\n",
    "### 6.1. Удаление столбцов\n",
    "### Удаление столбца с .drop()"
   ]
  },
  {
   "cell_type": "code",
   "execution_count": 208,
   "metadata": {},
   "outputs": [
    {
     "name": "stdout",
     "output_type": "stream",
     "text": [
      "     Имя  Возраст   Город\n",
      "0   Анна       25  Москва\n",
      "1   Иван       30     СПб\n",
      "2  Ольга       22  Казань\n"
     ]
    }
   ],
   "source": [
    "data = {\n",
    "    \"Имя\": [\"Анна\", \"Иван\", \"Ольга\"],\n",
    "    \"Возраст\": [25,30,22],\n",
    "    \"Город\": [\"Москва\", \"СПб\", \"Казань\"],\n",
    "    \"Зарплата\": [50000, 60000, 45000]\n",
    "}\n",
    "df = pd.DataFrame(data)\n",
    "# Удаляем столбец \"Зарплата\"\n",
    "df = df.drop(columns=[\"Зарплата\"])\n",
    "print(df)\n",
    "\n",
    "# Для удаления нескольких столбцов нужно передать в drop несколько параметров"
   ]
  },
  {
   "cell_type": "markdown",
   "metadata": {},
   "source": [
    "### Удаление столбца с del"
   ]
  },
  {
   "cell_type": "code",
   "execution_count": 210,
   "metadata": {},
   "outputs": [
    {
     "name": "stdout",
     "output_type": "stream",
     "text": [
      "   Возраст   Город\n",
      "0       25  Москва\n",
      "1       30     СПб\n",
      "2       22  Казань\n"
     ]
    }
   ],
   "source": [
    "del df[\"Имя\"]\n",
    "print(df)"
   ]
  },
  {
   "cell_type": "markdown",
   "metadata": {},
   "source": [
    "### Удаление столбца с .pop()"
   ]
  },
  {
   "cell_type": "code",
   "execution_count": 217,
   "metadata": {},
   "outputs": [
    {
     "name": "stdout",
     "output_type": "stream",
     "text": [
      "0     Анна\n",
      "1     Иван\n",
      "2    Ольга\n",
      "Name: Имя, dtype: object\n"
     ]
    }
   ],
   "source": [
    "df[\"Имя\"] = [\"Анна\", \"Иван\", \"Ольга\"] # Вернем столбец для примера\n",
    "d_c = df.pop(\"Имя\")\n",
    "print(d_c)"
   ]
  },
  {
   "cell_type": "markdown",
   "metadata": {},
   "source": [
    "### 6.2. Удаление строк\n",
    "### Удаление строк по индексу с .drop()"
   ]
  },
  {
   "cell_type": "code",
   "execution_count": 220,
   "metadata": {},
   "outputs": [
    {
     "name": "stdout",
     "output_type": "stream",
     "text": [
      "     Имя  Возраст   Город  Зарплата\n",
      "0   Анна       25  Москва     50000\n",
      "2  Ольга       22  Казань     45000\n"
     ]
    }
   ],
   "source": [
    "df = pd.DataFrame(data)\n",
    "df = df.drop(index=1)\n",
    "print(df)\n",
    "# Для удаления нескольких строк передаем несколько индексов index=[0,2]"
   ]
  },
  {
   "cell_type": "markdown",
   "metadata": {},
   "source": [
    "### Удаление строк по условию"
   ]
  },
  {
   "cell_type": "code",
   "execution_count": 225,
   "metadata": {},
   "outputs": [
    {
     "name": "stdout",
     "output_type": "stream",
     "text": [
      "    Имя  Возраст Город  Зарплата\n",
      "1  Иван       30   СПб     60000\n"
     ]
    }
   ],
   "source": [
    "df = pd.DataFrame(data)\n",
    "df = df[df[\"Возраст\"] > 25]\n",
    "print(df)"
   ]
  },
  {
   "cell_type": "markdown",
   "metadata": {},
   "source": [
    "### Удаление строк с reset_index()"
   ]
  },
  {
   "cell_type": "code",
   "execution_count": 228,
   "metadata": {},
   "outputs": [
    {
     "name": "stdout",
     "output_type": "stream",
     "text": [
      "    Имя  Возраст Город  Зарплата\n",
      "0  Иван       30   СПб     60000\n"
     ]
    }
   ],
   "source": [
    "df = df.reset_index(drop=True) # Сбрасываем индексы\n",
    "print(df)"
   ]
  },
  {
   "cell_type": "markdown",
   "metadata": {},
   "source": [
    "### 6.3. Удаление строк с пропущенными значениями (dropna)"
   ]
  },
  {
   "cell_type": "code",
   "execution_count": 237,
   "metadata": {},
   "outputs": [
    {
     "name": "stdout",
     "output_type": "stream",
     "text": [
      "     Имя Возраст   Город Зарплата\n",
      "0   Иван      30     СПб    60000\n",
      "3  Мария    None  Самара    55000\n",
      "\n",
      "\n",
      "    Имя Возраст Город Зарплата\n",
      "0  Иван      30   СПб    60000\n"
     ]
    }
   ],
   "source": [
    "df.loc[3] = {\"Имя\": \"Мария\", \"Возраст\": None, \"Город\": \"Самара\", \"Зарплата\": \"55000\"} # Добавим строку с пропуском\n",
    "print(df)\n",
    "df = df.dropna() # Удалим все строки с пропущенными значениями\n",
    "print(\"\\n\")\n",
    "print(df)"
   ]
  },
  {
   "cell_type": "markdown",
   "metadata": {},
   "source": [
    "### 6.4. Удаление дубликатов (drop_duplicates)"
   ]
  },
  {
   "cell_type": "code",
   "execution_count": 242,
   "metadata": {},
   "outputs": [
    {
     "name": "stdout",
     "output_type": "stream",
     "text": [
      "     Имя  Возраст\n",
      "0   Анна       25\n",
      "1   Иван       30\n",
      "2   Анна       25\n",
      "3  Ольга       22\n",
      "\n",
      "\n",
      "     Имя  Возраст\n",
      "0   Анна       25\n",
      "1   Иван       30\n",
      "3  Ольга       22\n"
     ]
    }
   ],
   "source": [
    "df = pd.DataFrame({\n",
    "    \"Имя\": [\"Анна\", \"Иван\", \"Анна\", \"Ольга\"],\n",
    "    \"Возраст\": [25,30,25,22]\n",
    "})\n",
    "print(df)\n",
    "print(\"\\n\")\n",
    "df = df.drop_duplicates()\n",
    "print(df)"
   ]
  },
  {
   "cell_type": "markdown",
   "metadata": {},
   "source": [
    "# **7. Фильтрация и условная индексация в DataFrame**\n",
    "### 7.1. Фильтрация с .query()"
   ]
  },
  {
   "cell_type": "code",
   "execution_count": 246,
   "metadata": {},
   "outputs": [
    {
     "name": "stdout",
     "output_type": "stream",
     "text": [
      "     Имя  Возраст        Город  Зарплата\n",
      "0   Анна       25       Москва     50000\n",
      "1   Иван       30          СПб     60000\n",
      "2  Ольга       22       Казань     45000\n",
      "3   Петр       40  Новосибирск     70000\n",
      "4  Мария       35          СПб     65000\n"
     ]
    }
   ],
   "source": [
    "data = {\n",
    "    \"Имя\": [\"Анна\", \"Иван\", \"Ольга\",\"Петр\",\"Мария\"],\n",
    "    \"Возраст\": [25,30,22,40,35],\n",
    "    \"Город\": [\"Москва\", \"СПб\", \"Казань\",\"Новосибирск\",\"СПб\"],\n",
    "    \"Зарплата\": [50000, 60000, 45000, 70000, 65000]\n",
    "}\n",
    "df = pd.DataFrame(data)\n",
    "print(df)"
   ]
  },
  {
   "cell_type": "code",
   "execution_count": 254,
   "metadata": {},
   "outputs": [
    {
     "name": "stdout",
     "output_type": "stream",
     "text": [
      "     Имя  Возраст        Город  Зарплата\n",
      "3   Петр       40  Новосибирск     70000\n",
      "4  Мария       35          СПб     65000\n"
     ]
    }
   ],
   "source": [
    "df_filtered = df.query(\"Возраст > 30\")\n",
    "print(df_filtered)\n",
    "# Для фильтрации по нескольким условиям нужно использовать \"and, or\" между ними"
   ]
  },
  {
   "cell_type": "markdown",
   "metadata": {},
   "source": [
    "### Использование переменных в query"
   ]
  },
  {
   "cell_type": "code",
   "execution_count": 257,
   "metadata": {},
   "outputs": [
    {
     "name": "stdout",
     "output_type": "stream",
     "text": [
      "     Имя  Возраст        Город  Зарплата\n",
      "1   Иван       30          СПб     60000\n",
      "3   Петр       40  Новосибирск     70000\n",
      "4  Мария       35          СПб     65000\n"
     ]
    }
   ],
   "source": [
    "min_age = 25\n",
    "df_filtered = df.query(\"Возраст > @min_age\")\n",
    "print(df_filtered)"
   ]
  },
  {
   "cell_type": "markdown",
   "metadata": {},
   "source": [
    "### 7.2. Фильтрация с .isin()\n",
    "### Фильтрация по списку значений"
   ]
  },
  {
   "cell_type": "code",
   "execution_count": 260,
   "metadata": {},
   "outputs": [
    {
     "name": "stdout",
     "output_type": "stream",
     "text": [
      "     Имя  Возраст   Город  Зарплата\n",
      "0   Анна       25  Москва     50000\n",
      "1   Иван       30     СПб     60000\n",
      "4  Мария       35     СПб     65000\n"
     ]
    }
   ],
   "source": [
    "df_filtered = df[df[\"Город\"].isin([\"Москва\", \"СПб\"])]\n",
    "print(df_filtered)"
   ]
  },
  {
   "cell_type": "markdown",
   "metadata": {},
   "source": [
    "### Обратная фильтрация (исключение значений)"
   ]
  },
  {
   "cell_type": "code",
   "execution_count": 266,
   "metadata": {},
   "outputs": [
    {
     "name": "stdout",
     "output_type": "stream",
     "text": [
      "     Имя  Возраст        Город  Зарплата\n",
      "2  Ольга       22       Казань     45000\n",
      "3   Петр       40  Новосибирск     70000\n"
     ]
    }
   ],
   "source": [
    "df_filtered = df[~df[\"Город\"].isin([\"Москва\", \"СПб\"])]\n",
    "print(df_filtered)"
   ]
  },
  {
   "cell_type": "markdown",
   "metadata": {},
   "source": [
    "### 7.3. Фильтрация с .between()"
   ]
  },
  {
   "cell_type": "code",
   "execution_count": 271,
   "metadata": {},
   "outputs": [
    {
     "name": "stdout",
     "output_type": "stream",
     "text": [
      "     Имя  Возраст   Город  Зарплата\n",
      "0   Анна       25  Москва     50000\n",
      "1   Иван       30     СПб     60000\n",
      "4  Мария       35     СПб     65000\n"
     ]
    }
   ],
   "source": [
    "df_filtered = df[df[\"Возраст\"].between(25,35)]\n",
    "print(df_filtered)\n",
    "# Для исключения границ можно использовать inclusive=\"neither\""
   ]
  },
  {
   "cell_type": "markdown",
   "metadata": {},
   "source": [
    "# **8. Подсчет значений в DataFrame**\n",
    "### 8.1. Подсчет ненулевых значений: .count()"
   ]
  },
  {
   "cell_type": "code",
   "execution_count": 280,
   "metadata": {},
   "outputs": [
    {
     "name": "stdout",
     "output_type": "stream",
     "text": [
      "     Имя  Возраст        Город\n",
      "0   Анна     25.0       Москва\n",
      "1   Иван     30.0          СПб\n",
      "2  Ольга     22.0       Казань\n",
      "3   Петр      NaN  Новосибирск\n",
      "4   None     35.0          СПб\n"
     ]
    }
   ],
   "source": [
    "data = {\n",
    "    \"Имя\": [\"Анна\", \"Иван\", \"Ольга\",\"Петр\",None],\n",
    "    \"Возраст\": [25,30,22,None,35],\n",
    "    \"Город\": [\"Москва\", \"СПб\", \"Казань\",\"Новосибирск\",\"СПб\"],\n",
    "}\n",
    "df = pd.DataFrame(data)\n",
    "print(df)"
   ]
  },
  {
   "cell_type": "code",
   "execution_count": 282,
   "metadata": {},
   "outputs": [
    {
     "name": "stdout",
     "output_type": "stream",
     "text": [
      "Имя        4\n",
      "Возраст    4\n",
      "Город      5\n",
      "dtype: int64\n"
     ]
    }
   ],
   "source": [
    "print(df.count())"
   ]
  },
  {
   "cell_type": "markdown",
   "metadata": {},
   "source": [
    "### 8.2. Подсчет уникальных значений: .value_counts()"
   ]
  },
  {
   "cell_type": "code",
   "execution_count": 285,
   "metadata": {},
   "outputs": [
    {
     "name": "stdout",
     "output_type": "stream",
     "text": [
      "Город\n",
      "СПб            2\n",
      "Москва         1\n",
      "Казань         1\n",
      "Новосибирск    1\n",
      "Name: count, dtype: int64\n"
     ]
    }
   ],
   "source": [
    "print(df[\"Город\"].value_counts())"
   ]
  },
  {
   "cell_type": "markdown",
   "metadata": {},
   "source": [
    "### 8.3. Подсчет количества уникальных значений: .nunique()"
   ]
  },
  {
   "cell_type": "code",
   "execution_count": 290,
   "metadata": {},
   "outputs": [
    {
     "name": "stdout",
     "output_type": "stream",
     "text": [
      "Имя        4\n",
      "Возраст    4\n",
      "Город      4\n",
      "dtype: int64\n"
     ]
    }
   ],
   "source": [
    "print(df.nunique())\n",
    "# Если нужно учитывать NaN как уникальное значение, добавляем dropna=False"
   ]
  },
  {
   "cell_type": "markdown",
   "metadata": {},
   "source": [
    "### 8.4. Подсчет пропущенных значений: .isna().sum()"
   ]
  },
  {
   "cell_type": "code",
   "execution_count": 293,
   "metadata": {},
   "outputs": [
    {
     "name": "stdout",
     "output_type": "stream",
     "text": [
      "Имя        1\n",
      "Возраст    1\n",
      "Город      0\n",
      "dtype: int64\n"
     ]
    }
   ],
   "source": [
    "print(df.isna().sum())"
   ]
  },
  {
   "cell_type": "markdown",
   "metadata": {},
   "source": [
    "# **9. Сортировка данных в DataFrame**\n",
    "### 9.1. Сортировка по значениям .sort_values()"
   ]
  },
  {
   "cell_type": "code",
   "execution_count": 296,
   "metadata": {},
   "outputs": [
    {
     "name": "stdout",
     "output_type": "stream",
     "text": [
      "     Имя  Возраст  Зарплата\n",
      "0   Анна       25     50000\n",
      "1   Иван       30     60000\n",
      "2  Ольга       22     45000\n",
      "3   Петр       40     70000\n",
      "4  Мария       35     65000\n"
     ]
    }
   ],
   "source": [
    "data = {\n",
    "    \"Имя\": [\"Анна\", \"Иван\", \"Ольга\",\"Петр\",\"Мария\"],\n",
    "    \"Возраст\": [25,30,22,40,35],\n",
    "    \"Зарплата\": [50000, 60000, 45000, 70000, 65000]\n",
    "}\n",
    "df = pd.DataFrame(data)\n",
    "print(df)"
   ]
  },
  {
   "cell_type": "markdown",
   "metadata": {},
   "source": [
    "### Сортировка по одному столбцу"
   ]
  },
  {
   "cell_type": "code",
   "execution_count": 299,
   "metadata": {},
   "outputs": [
    {
     "name": "stdout",
     "output_type": "stream",
     "text": [
      "     Имя  Возраст  Зарплата\n",
      "2  Ольга       22     45000\n",
      "0   Анна       25     50000\n",
      "1   Иван       30     60000\n",
      "4  Мария       35     65000\n",
      "3   Петр       40     70000\n"
     ]
    }
   ],
   "source": [
    "df_sorted = df.sort_values(by=\"Возраст\")\n",
    "print(df_sorted)"
   ]
  },
  {
   "cell_type": "markdown",
   "metadata": {},
   "source": [
    "### Сортировка по убыванию"
   ]
  },
  {
   "cell_type": "code",
   "execution_count": 302,
   "metadata": {},
   "outputs": [
    {
     "name": "stdout",
     "output_type": "stream",
     "text": [
      "     Имя  Возраст  Зарплата\n",
      "3   Петр       40     70000\n",
      "4  Мария       35     65000\n",
      "1   Иван       30     60000\n",
      "0   Анна       25     50000\n",
      "2  Ольга       22     45000\n"
     ]
    }
   ],
   "source": [
    "df_sorted = df.sort_values(by=\"Возраст\", ascending=False)\n",
    "print(df_sorted)"
   ]
  },
  {
   "cell_type": "markdown",
   "metadata": {},
   "source": [
    "### Сортировка по нескольким столбцам"
   ]
  },
  {
   "cell_type": "code",
   "execution_count": 309,
   "metadata": {},
   "outputs": [
    {
     "name": "stdout",
     "output_type": "stream",
     "text": [
      "     Имя  Возраст  Зарплата\n",
      "2  Ольга       22     45000\n",
      "0   Анна       25     50000\n",
      "1   Иван       30     60000\n",
      "4  Мария       35     65000\n",
      "3   Петр       40     70000\n"
     ]
    }
   ],
   "source": [
    "df_sorted = df.sort_values(by=[\"Возраст\",\"Зарплата\"], ascending=[True,False])\n",
    "print(df_sorted)"
   ]
  },
  {
   "cell_type": "markdown",
   "metadata": {},
   "source": [
    "### Сортировка с na_position"
   ]
  },
  {
   "cell_type": "code",
   "execution_count": 312,
   "metadata": {},
   "outputs": [
    {
     "name": "stdout",
     "output_type": "stream",
     "text": [
      "     Имя Возраст  Зарплата\n",
      "5  Елена    None     55000\n",
      "2  Ольга      22     45000\n",
      "0   Анна      25     50000\n",
      "1   Иван      30     60000\n",
      "4  Мария      35     65000\n",
      "3   Петр      40     70000\n"
     ]
    }
   ],
   "source": [
    "df.loc[5] = [\"Елена\", None, 55000] # Добавляем строку с NaN в \"Возраст\"\n",
    "df_sorted = df.sort_values(by=\"Возраст\", na_position=\"first\")\n",
    "print(df_sorted)"
   ]
  },
  {
   "cell_type": "markdown",
   "metadata": {},
   "source": [
    "### 9.2. Сортировка по индексам: .sort_index()"
   ]
  },
  {
   "cell_type": "code",
   "execution_count": 318,
   "metadata": {},
   "outputs": [
    {
     "name": "stdout",
     "output_type": "stream",
     "text": [
      "     Имя Возраст  Зарплата\n",
      "0   Анна      25     50000\n",
      "1   Иван      30     60000\n",
      "2  Ольга      22     45000\n",
      "3   Петр      40     70000\n",
      "4  Мария      35     65000\n",
      "5  Елена    None     55000\n"
     ]
    }
   ],
   "source": [
    "df_sorted = df.sort_index()\n",
    "print(df_sorted)\n",
    "# Для сортировки индексов в обратном порядке можно использовать .sort_index(ascending=False)"
   ]
  },
  {
   "cell_type": "markdown",
   "metadata": {},
   "source": [
    "# **10. Отображение DataFrame в Jupyter Notebook**\n",
    "### 10.1. Базовое отображение pandas.DataFrame\n",
    "### Вывод через print() (не рекомендуется)"
   ]
  },
  {
   "cell_type": "code",
   "execution_count": 321,
   "metadata": {},
   "outputs": [
    {
     "name": "stdout",
     "output_type": "stream",
     "text": [
      "     Имя  Возраст   Город\n",
      "0   Анна       25  Москва\n",
      "1   Иван       30     СПб\n",
      "2  Ольга       22  Казань\n"
     ]
    }
   ],
   "source": [
    "df = pd.DataFrame({\n",
    "    \"Имя\": [\"Анна\", \"Иван\",\"Ольга\"],\n",
    "    \"Возраст\": [25,30,22],\n",
    "    \"Город\": [\"Москва\", \"СПб\", \"Казань\"]\n",
    "})\n",
    "print(df)"
   ]
  },
  {
   "cell_type": "markdown",
   "metadata": {},
   "source": [
    "### Отображение через display() (рекомендуется)"
   ]
  },
  {
   "cell_type": "code",
   "execution_count": 324,
   "metadata": {},
   "outputs": [
    {
     "data": {
      "text/html": [
       "<div>\n",
       "<style scoped>\n",
       "    .dataframe tbody tr th:only-of-type {\n",
       "        vertical-align: middle;\n",
       "    }\n",
       "\n",
       "    .dataframe tbody tr th {\n",
       "        vertical-align: top;\n",
       "    }\n",
       "\n",
       "    .dataframe thead th {\n",
       "        text-align: right;\n",
       "    }\n",
       "</style>\n",
       "<table border=\"1\" class=\"dataframe\">\n",
       "  <thead>\n",
       "    <tr style=\"text-align: right;\">\n",
       "      <th></th>\n",
       "      <th>Имя</th>\n",
       "      <th>Возраст</th>\n",
       "      <th>Город</th>\n",
       "    </tr>\n",
       "  </thead>\n",
       "  <tbody>\n",
       "    <tr>\n",
       "      <th>0</th>\n",
       "      <td>Анна</td>\n",
       "      <td>25</td>\n",
       "      <td>Москва</td>\n",
       "    </tr>\n",
       "    <tr>\n",
       "      <th>1</th>\n",
       "      <td>Иван</td>\n",
       "      <td>30</td>\n",
       "      <td>СПб</td>\n",
       "    </tr>\n",
       "    <tr>\n",
       "      <th>2</th>\n",
       "      <td>Ольга</td>\n",
       "      <td>22</td>\n",
       "      <td>Казань</td>\n",
       "    </tr>\n",
       "  </tbody>\n",
       "</table>\n",
       "</div>"
      ],
      "text/plain": [
       "     Имя  Возраст   Город\n",
       "0   Анна       25  Москва\n",
       "1   Иван       30     СПб\n",
       "2  Ольга       22  Казань"
      ]
     },
     "metadata": {},
     "output_type": "display_data"
    }
   ],
   "source": [
    "from IPython.display import display\n",
    "display(df)"
   ]
  },
  {
   "cell_type": "markdown",
   "metadata": {},
   "source": [
    "### Использование df.head() и df.tail()"
   ]
  },
  {
   "cell_type": "code",
   "execution_count": 327,
   "metadata": {},
   "outputs": [
    {
     "data": {
      "text/html": [
       "<div>\n",
       "<style scoped>\n",
       "    .dataframe tbody tr th:only-of-type {\n",
       "        vertical-align: middle;\n",
       "    }\n",
       "\n",
       "    .dataframe tbody tr th {\n",
       "        vertical-align: top;\n",
       "    }\n",
       "\n",
       "    .dataframe thead th {\n",
       "        text-align: right;\n",
       "    }\n",
       "</style>\n",
       "<table border=\"1\" class=\"dataframe\">\n",
       "  <thead>\n",
       "    <tr style=\"text-align: right;\">\n",
       "      <th></th>\n",
       "      <th>Имя</th>\n",
       "      <th>Возраст</th>\n",
       "      <th>Город</th>\n",
       "    </tr>\n",
       "  </thead>\n",
       "  <tbody>\n",
       "    <tr>\n",
       "      <th>0</th>\n",
       "      <td>Анна</td>\n",
       "      <td>25</td>\n",
       "      <td>Москва</td>\n",
       "    </tr>\n",
       "    <tr>\n",
       "      <th>1</th>\n",
       "      <td>Иван</td>\n",
       "      <td>30</td>\n",
       "      <td>СПб</td>\n",
       "    </tr>\n",
       "    <tr>\n",
       "      <th>2</th>\n",
       "      <td>Ольга</td>\n",
       "      <td>22</td>\n",
       "      <td>Казань</td>\n",
       "    </tr>\n",
       "  </tbody>\n",
       "</table>\n",
       "</div>"
      ],
      "text/plain": [
       "     Имя  Возраст   Город\n",
       "0   Анна       25  Москва\n",
       "1   Иван       30     СПб\n",
       "2  Ольга       22  Казань"
      ]
     },
     "execution_count": 327,
     "metadata": {},
     "output_type": "execute_result"
    }
   ],
   "source": [
    "df.head(5)"
   ]
  },
  {
   "cell_type": "code",
   "execution_count": 329,
   "metadata": {},
   "outputs": [
    {
     "data": {
      "text/html": [
       "<div>\n",
       "<style scoped>\n",
       "    .dataframe tbody tr th:only-of-type {\n",
       "        vertical-align: middle;\n",
       "    }\n",
       "\n",
       "    .dataframe tbody tr th {\n",
       "        vertical-align: top;\n",
       "    }\n",
       "\n",
       "    .dataframe thead th {\n",
       "        text-align: right;\n",
       "    }\n",
       "</style>\n",
       "<table border=\"1\" class=\"dataframe\">\n",
       "  <thead>\n",
       "    <tr style=\"text-align: right;\">\n",
       "      <th></th>\n",
       "      <th>Имя</th>\n",
       "      <th>Возраст</th>\n",
       "      <th>Город</th>\n",
       "    </tr>\n",
       "  </thead>\n",
       "  <tbody>\n",
       "    <tr>\n",
       "      <th>0</th>\n",
       "      <td>Анна</td>\n",
       "      <td>25</td>\n",
       "      <td>Москва</td>\n",
       "    </tr>\n",
       "    <tr>\n",
       "      <th>1</th>\n",
       "      <td>Иван</td>\n",
       "      <td>30</td>\n",
       "      <td>СПб</td>\n",
       "    </tr>\n",
       "    <tr>\n",
       "      <th>2</th>\n",
       "      <td>Ольга</td>\n",
       "      <td>22</td>\n",
       "      <td>Казань</td>\n",
       "    </tr>\n",
       "  </tbody>\n",
       "</table>\n",
       "</div>"
      ],
      "text/plain": [
       "     Имя  Возраст   Город\n",
       "0   Анна       25  Москва\n",
       "1   Иван       30     СПб\n",
       "2  Ольга       22  Казань"
      ]
     },
     "execution_count": 329,
     "metadata": {},
     "output_type": "execute_result"
    }
   ],
   "source": [
    "df.tail(3)"
   ]
  },
  {
   "cell_type": "markdown",
   "metadata": {},
   "source": [
    "### 10.2. Управление настройками отображения"
   ]
  },
  {
   "cell_type": "markdown",
   "metadata": {},
   "source": [
    "### Изменение количества отображаемых строк и столбцов"
   ]
  },
  {
   "cell_type": "code",
   "execution_count": 333,
   "metadata": {},
   "outputs": [],
   "source": [
    "pd.set_option(\"display.max_rows\",100) # Показывать до 100 строк"
   ]
  },
  {
   "cell_type": "code",
   "execution_count": 335,
   "metadata": {},
   "outputs": [],
   "source": [
    "pd.set_option(\"display.max_columns\",50) # Показывать до 50 столбцов"
   ]
  },
  {
   "cell_type": "code",
   "execution_count": 339,
   "metadata": {},
   "outputs": [],
   "source": [
    "pd.set_option(\"display.max_colwidth\",None) # Отключить обрезку длинных строк в таблицах"
   ]
  },
  {
   "cell_type": "markdown",
   "metadata": {},
   "source": [
    "### Уменьшение количества знаков после запятой"
   ]
  },
  {
   "cell_type": "code",
   "execution_count": 344,
   "metadata": {},
   "outputs": [],
   "source": [
    "pd.set_option(\"display.float_format\",\"{:.2f}\".format) # Будет округлять все числа до 2 зн.п.з"
   ]
  },
  {
   "cell_type": "markdown",
   "metadata": {},
   "source": [
    "### 10.3. Визуализация больших таблиц\n",
    "### Прокручиваемые таблицы с DataFrame.style.set_sticky()"
   ]
  },
  {
   "cell_type": "code",
   "execution_count": 347,
   "metadata": {},
   "outputs": [
    {
     "data": {
      "text/html": [
       "<style type=\"text/css\">\n",
       "#T_4e7ef thead tr th:nth-child(1) {\n",
       "  position: sticky;\n",
       "  background-color: inherit;\n",
       "  left: 0px;\n",
       "  z-index: 3 !important;\n",
       "}\n",
       "#T_4e7ef tbody tr th:nth-child(1) {\n",
       "  position: sticky;\n",
       "  background-color: inherit;\n",
       "  left: 0px;\n",
       "  z-index: 1;\n",
       "}\n",
       "</style>\n",
       "<table id=\"T_4e7ef\">\n",
       "  <thead>\n",
       "    <tr>\n",
       "      <th class=\"blank level0\" >&nbsp;</th>\n",
       "      <th id=\"T_4e7ef_level0_col0\" class=\"col_heading level0 col0\" >Имя</th>\n",
       "      <th id=\"T_4e7ef_level0_col1\" class=\"col_heading level0 col1\" >Возраст</th>\n",
       "      <th id=\"T_4e7ef_level0_col2\" class=\"col_heading level0 col2\" >Город</th>\n",
       "    </tr>\n",
       "  </thead>\n",
       "  <tbody>\n",
       "    <tr>\n",
       "      <th id=\"T_4e7ef_level0_row0\" class=\"row_heading level0 row0\" >0</th>\n",
       "      <td id=\"T_4e7ef_row0_col0\" class=\"data row0 col0\" >Анна</td>\n",
       "      <td id=\"T_4e7ef_row0_col1\" class=\"data row0 col1\" >25</td>\n",
       "      <td id=\"T_4e7ef_row0_col2\" class=\"data row0 col2\" >Москва</td>\n",
       "    </tr>\n",
       "    <tr>\n",
       "      <th id=\"T_4e7ef_level0_row1\" class=\"row_heading level0 row1\" >1</th>\n",
       "      <td id=\"T_4e7ef_row1_col0\" class=\"data row1 col0\" >Иван</td>\n",
       "      <td id=\"T_4e7ef_row1_col1\" class=\"data row1 col1\" >30</td>\n",
       "      <td id=\"T_4e7ef_row1_col2\" class=\"data row1 col2\" >СПб</td>\n",
       "    </tr>\n",
       "    <tr>\n",
       "      <th id=\"T_4e7ef_level0_row2\" class=\"row_heading level0 row2\" >2</th>\n",
       "      <td id=\"T_4e7ef_row2_col0\" class=\"data row2 col0\" >Ольга</td>\n",
       "      <td id=\"T_4e7ef_row2_col1\" class=\"data row2 col1\" >22</td>\n",
       "      <td id=\"T_4e7ef_row2_col2\" class=\"data row2 col2\" >Казань</td>\n",
       "    </tr>\n",
       "  </tbody>\n",
       "</table>\n"
      ],
      "text/plain": [
       "<pandas.io.formats.style.Styler at 0x2c3bda1abd0>"
      ]
     },
     "execution_count": 347,
     "metadata": {},
     "output_type": "execute_result"
    }
   ],
   "source": [
    "df.style.set_sticky() # Позволяет зафиксировать заголовки при прокрутке"
   ]
  },
  {
   "cell_type": "markdown",
   "metadata": {},
   "source": [
    "### Разбиение больших таблиц на страницы (Qgrid)"
   ]
  },
  {
   "cell_type": "code",
   "execution_count": null,
   "metadata": {},
   "outputs": [],
   "source": [
    "import qgrid\n",
    "qgrid_widget = qgrid.show_grid(df, show_toolbar=True)\n",
    "qgrid_widget"
   ]
  },
  {
   "cell_type": "markdown",
   "metadata": {},
   "source": [
    "### Улучшенное отображение с помощью tabulate"
   ]
  },
  {
   "cell_type": "code",
   "execution_count": 355,
   "metadata": {},
   "outputs": [
    {
     "name": "stdout",
     "output_type": "stream",
     "text": [
      "|    | Имя   |   Возраст | Город   |\n",
      "|----|-------|-----------|---------|\n",
      "|  0 | Анна  |        25 | Москва  |\n",
      "|  1 | Иван  |        30 | СПб     |\n",
      "|  2 | Ольга |        22 | Казань  |\n"
     ]
    }
   ],
   "source": [
    "from tabulate import tabulate\n",
    "print(tabulate(df, headers=\"keys\", tablefmt=\"github\"))"
   ]
  },
  {
   "cell_type": "markdown",
   "metadata": {},
   "source": [
    "### 10.4. Использование сторонних библиотек"
   ]
  },
  {
   "cell_type": "code",
   "execution_count": 368,
   "metadata": {},
   "outputs": [
    {
     "data": {
      "text/html": [
       "<style type=\"text/css\">\n",
       "#T_56ca5_row0_col0, #T_56ca5_row0_col1, #T_56ca5_row0_col2, #T_56ca5_row1_col0, #T_56ca5_row1_col1, #T_56ca5_row1_col2, #T_56ca5_row2_col0, #T_56ca5_row2_col1, #T_56ca5_row2_col2 {\n",
       "  background-color: #E6E6FA;\n",
       "  color: black;\n",
       "}\n",
       "</style>\n",
       "<table id=\"T_56ca5\">\n",
       "  <thead>\n",
       "    <tr>\n",
       "      <th class=\"blank level0\" >&nbsp;</th>\n",
       "      <th id=\"T_56ca5_level0_col0\" class=\"col_heading level0 col0\" >Имя</th>\n",
       "      <th id=\"T_56ca5_level0_col1\" class=\"col_heading level0 col1\" >Возраст</th>\n",
       "      <th id=\"T_56ca5_level0_col2\" class=\"col_heading level0 col2\" >Город</th>\n",
       "    </tr>\n",
       "  </thead>\n",
       "  <tbody>\n",
       "    <tr>\n",
       "      <th id=\"T_56ca5_level0_row0\" class=\"row_heading level0 row0\" >0</th>\n",
       "      <td id=\"T_56ca5_row0_col0\" class=\"data row0 col0\" >Анна</td>\n",
       "      <td id=\"T_56ca5_row0_col1\" class=\"data row0 col1\" >25</td>\n",
       "      <td id=\"T_56ca5_row0_col2\" class=\"data row0 col2\" >Москва</td>\n",
       "    </tr>\n",
       "    <tr>\n",
       "      <th id=\"T_56ca5_level0_row1\" class=\"row_heading level0 row1\" >1</th>\n",
       "      <td id=\"T_56ca5_row1_col0\" class=\"data row1 col0\" >Иван</td>\n",
       "      <td id=\"T_56ca5_row1_col1\" class=\"data row1 col1\" >30</td>\n",
       "      <td id=\"T_56ca5_row1_col2\" class=\"data row1 col2\" >СПб</td>\n",
       "    </tr>\n",
       "    <tr>\n",
       "      <th id=\"T_56ca5_level0_row2\" class=\"row_heading level0 row2\" >2</th>\n",
       "      <td id=\"T_56ca5_row2_col0\" class=\"data row2 col0\" >Ольга</td>\n",
       "      <td id=\"T_56ca5_row2_col1\" class=\"data row2 col1\" >22</td>\n",
       "      <td id=\"T_56ca5_row2_col2\" class=\"data row2 col2\" >Казань</td>\n",
       "    </tr>\n",
       "  </tbody>\n",
       "</table>\n"
      ],
      "text/plain": [
       "<pandas.io.formats.style.Styler at 0x2c3c17da7b0>"
      ]
     },
     "execution_count": 368,
     "metadata": {},
     "output_type": "execute_result"
    }
   ],
   "source": [
    "df.style.set_properties(**{\"background-color\":\"#E6E6FA\",\"color\":\"black\"})"
   ]
  },
  {
   "cell_type": "code",
   "execution_count": null,
   "metadata": {},
   "outputs": [],
   "source": []
  }
 ],
 "metadata": {
  "colab": {
   "provenance": []
  },
  "kernelspec": {
   "display_name": "Python [conda env:base] *",
   "language": "python",
   "name": "conda-base-py"
  },
  "language_info": {
   "codemirror_mode": {
    "name": "ipython",
    "version": 3
   },
   "file_extension": ".py",
   "mimetype": "text/x-python",
   "name": "python",
   "nbconvert_exporter": "python",
   "pygments_lexer": "ipython3",
   "version": "3.12.7"
  }
 },
 "nbformat": 4,
 "nbformat_minor": 4
}
